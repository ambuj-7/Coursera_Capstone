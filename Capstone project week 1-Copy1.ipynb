{
 "cells": [
  {
   "cell_type": "markdown",
   "id": "impressed-coupon",
   "metadata": {},
   "source": [
    "# IBM Applied Data Science Capstone Project"
   ]
  },
  {
   "cell_type": "markdown",
   "id": "novel-pharmacology",
   "metadata": {},
   "source": [
    "This notebook will primarily be used for the IBM Applied Data Science Capstone project."
   ]
  },
  {
   "cell_type": "code",
   "execution_count": 7,
   "id": "outside-better",
   "metadata": {},
   "outputs": [
    {
     "name": "stdout",
     "output_type": "stream",
     "text": [
      "Hello Captsone Project Course!\n"
     ]
    }
   ],
   "source": [
    "print('Hello Captsone Project Course!')"
   ]
  }
 ],
 "metadata": {
  "kernelspec": {
   "display_name": "Python 3",
   "language": "python",
   "name": "python3"
  },
  "language_info": {
   "codemirror_mode": {
    "name": "ipython",
    "version": 3
   },
   "file_extension": ".py",
   "mimetype": "text/x-python",
   "name": "python",
   "nbconvert_exporter": "python",
   "pygments_lexer": "ipython3",
   "version": "3.8.3"
  }
 },
 "nbformat": 4,
 "nbformat_minor": 5
}
